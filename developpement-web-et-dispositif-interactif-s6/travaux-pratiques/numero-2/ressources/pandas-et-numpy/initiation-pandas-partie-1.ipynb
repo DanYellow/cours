{
 "cells": [
  {
   "cell_type": "markdown",
   "metadata": {},
   "source": [
    "# pandas - partie 1\n",
    "\n",
    "<img src=\"https://pandas.pydata.org/docs/_static/pandas.svg\" alt=\"logo pandas\" width=\"500\"/>\n",
    "\n",
    "Le big data, c'est beaucoup, beaucoup de données. On a vu précédemment que numpy était très bien adapté pour la gestion de gros volumes de données, mais il y a un hic : numpy ne sait gérer que des nombres, en Big Data, nous utilisons des chiffres et des lettres. \n",
    "C'est ici qu'entre en jeu pandas, la biblothèque (native à jupyter) est un parent proche de numpy, ainsi tout ce qu'on a vu sur numpy (notamment les filtres) s'appliquera avec pandas, et ce, avec la même syntaxe.\n",
    "\n",
    "Avec pandas, on va manipuler des DataFrame, c'est l'objet qui se trouve au coeur de la bibliothèque. Le Dataframe est un tableau où les colonnes sont labellisées, graphiquement ça ressemble à ceci.\n",
    "\n",
    "![dataframe](https://raw.githubusercontent.com/DanYellow/cours/main/big-data-s4/travaux-pratiques/numero-5/ressources/_images/dataframe-intro.jpg)\n",
    "\n",
    "Ceci est un dataframe \"graphique\", ça ressemble beaucoup aux données d'un tableur. Le Dataframe est l'objet principal de pandas, nous allons en manipuler beaucoup mais surtout de très gros jeux de données.\n",
    "\n",
    "Par ailleurs chaque colonne représentent un objet pandas appelé Series. Dans l'image ci-dessus, il y a donc trois Series.\n",
    "\n",
    "pandas est déjà présent dans jupyter, il faut juste l'importer `import pandas as pd`.\n",
    "\n",
    "[Voir documentation de pandas](https://pandas.pydata.org)"
   ]
  },
  {
   "cell_type": "code",
   "execution_count": 63,
   "metadata": {
    "scrolled": true
   },
   "outputs": [
    {
     "data": {
      "text/html": [
       "<div>\n",
       "<style scoped>\n",
       "    .dataframe tbody tr th:only-of-type {\n",
       "        vertical-align: middle;\n",
       "    }\n",
       "\n",
       "    .dataframe tbody tr th {\n",
       "        vertical-align: top;\n",
       "    }\n",
       "\n",
       "    .dataframe thead th {\n",
       "        text-align: right;\n",
       "    }\n",
       "</style>\n",
       "<table border=\"1\" class=\"dataframe\">\n",
       "  <thead>\n",
       "    <tr style=\"text-align: right;\">\n",
       "      <th></th>\n",
       "      <th>marque</th>\n",
       "      <th>gamme</th>\n",
       "      <th>vitesse_max</th>\n",
       "      <th>nbre_sieges</th>\n",
       "      <th>longueur</th>\n",
       "      <th>annee_sortie</th>\n",
       "      <th>motorisation</th>\n",
       "      <th>prix €</th>\n",
       "    </tr>\n",
       "  </thead>\n",
       "  <tbody>\n",
       "    <tr>\n",
       "      <th>0</th>\n",
       "      <td>BMW</td>\n",
       "      <td>luxe</td>\n",
       "      <td>210</td>\n",
       "      <td>5</td>\n",
       "      <td>3000</td>\n",
       "      <td>2014</td>\n",
       "      <td>essence</td>\n",
       "      <td>65000</td>\n",
       "    </tr>\n",
       "    <tr>\n",
       "      <th>1</th>\n",
       "      <td>Volvo</td>\n",
       "      <td>haut de gamme</td>\n",
       "      <td>160</td>\n",
       "      <td>7</td>\n",
       "      <td>2750</td>\n",
       "      <td>2020</td>\n",
       "      <td>essence</td>\n",
       "      <td>56750</td>\n",
       "    </tr>\n",
       "    <tr>\n",
       "      <th>2</th>\n",
       "      <td>Ford</td>\n",
       "      <td>compacte</td>\n",
       "      <td>120</td>\n",
       "      <td>4</td>\n",
       "      <td>2000</td>\n",
       "      <td>2009</td>\n",
       "      <td>bio-ethanol</td>\n",
       "      <td>12500</td>\n",
       "    </tr>\n",
       "    <tr>\n",
       "      <th>3</th>\n",
       "      <td>Citroen</td>\n",
       "      <td>citadine</td>\n",
       "      <td>130</td>\n",
       "      <td>5</td>\n",
       "      <td>2500</td>\n",
       "      <td>2015</td>\n",
       "      <td>diesel</td>\n",
       "      <td>32000</td>\n",
       "    </tr>\n",
       "  </tbody>\n",
       "</table>\n",
       "</div>"
      ],
      "text/plain": [
       "    marque          gamme  vitesse_max  nbre_sieges  longueur  annee_sortie  \\\n",
       "0      BMW           luxe          210            5      3000          2014   \n",
       "1    Volvo  haut de gamme          160            7      2750          2020   \n",
       "2     Ford       compacte          120            4      2000          2009   \n",
       "3  Citroen       citadine          130            5      2500          2015   \n",
       "\n",
       "  motorisation  prix €  \n",
       "0      essence   65000  \n",
       "1      essence   56750  \n",
       "2  bio-ethanol   12500  \n",
       "3       diesel   32000  "
      ]
     },
     "metadata": {},
     "output_type": "display_data"
    },
    {
     "data": {
      "text/plain": [
       "marque              BMW\n",
       "gamme              luxe\n",
       "vitesse_max         210\n",
       "nbre_sieges           5\n",
       "longueur           3000\n",
       "annee_sortie       2014\n",
       "motorisation    essence\n",
       "prix €            65000\n",
       "Name: 0, dtype: object"
      ]
     },
     "metadata": {},
     "output_type": "display_data"
    }
   ],
   "source": [
    "import pandas as pd\n",
    "\n",
    "dictionnaire = {\n",
    "    'marque': [\"BMW\", \"Volvo\", \"Ford\", \"Citroen\"],\n",
    "    'gamme': [\"luxe\", \"haut de gamme\", \"compacte\", \"citadine\"],\n",
    "    'vitesse_max': [210, 160, 120, 130],\n",
    "    'nbre_sieges': [5, 7, 4, 5],\n",
    "    'longueur': [3000, 2750, 2000, 2500],\n",
    "    'annee_sortie': [2014, 2020, 2009, 2015],\n",
    "    'motorisation': [\"essence\", \"essence\", \"bio-ethanol\", \"diesel\"],\n",
    "    'prix €' : [65000, 56750, 12500, 32000]\n",
    "}\n",
    "\n",
    "mon_df = pd.DataFrame(dictionnaire)\n",
    "display(mon_df)\n",
    "# Pour retourner la première valeur d'un DataFrame, autrement dit la première ligne du tableau, il faut écrire la chose suivante :\n",
    "display(mon_df.iloc[0]) # iloc signifie index location."
   ]
  },
  {
   "cell_type": "code",
   "execution_count": 2,
   "metadata": {},
   "outputs": [
    {
     "data": {
      "text/plain": [
       "marque          BMW\n",
       "gamme          luxe\n",
       "vitesse_max     210\n",
       "nbre_sieges       5\n",
       "longueur       3000\n",
       "Name: AMG, dtype: object"
      ]
     },
     "execution_count": 2,
     "metadata": {},
     "output_type": "execute_result"
    }
   ],
   "source": [
    "# On peut définir nos indexes à la création de notre dataframe grâce à la propriété \"index\"\n",
    "mon_df = pd.DataFrame(dictionnaire, index=[\"AMG\", \"XC60\", \"Ka\", \"Cactus\"])\n",
    "# Ici on a défini que la première ligne à l'index \"AMG\", la seconde \"XC60\"...\n",
    "\n",
    "# Une fois fait, on peut écrire ceci\n",
    "mon_df.loc['AMG'] # On affichera le même résultat qu'en haut."
   ]
  },
  {
   "cell_type": "markdown",
   "metadata": {},
   "source": [
    "Dans notre dataframe, il est également possible de libelliser nos lignes en définissant un index pour chacune d'elle. Il y a deux façons de procéder."
   ]
  },
  {
   "cell_type": "code",
   "execution_count": 45,
   "metadata": {},
   "outputs": [
    {
     "data": {
      "text/html": [
       "<div>\n",
       "<style scoped>\n",
       "    .dataframe tbody tr th:only-of-type {\n",
       "        vertical-align: middle;\n",
       "    }\n",
       "\n",
       "    .dataframe tbody tr th {\n",
       "        vertical-align: top;\n",
       "    }\n",
       "\n",
       "    .dataframe thead th {\n",
       "        text-align: right;\n",
       "    }\n",
       "</style>\n",
       "<table border=\"1\" class=\"dataframe\">\n",
       "  <thead>\n",
       "    <tr style=\"text-align: right;\">\n",
       "      <th></th>\n",
       "      <th>gamme</th>\n",
       "      <th>vitesse_max</th>\n",
       "      <th>nbre_sieges</th>\n",
       "      <th>longueur</th>\n",
       "      <th>motorisation</th>\n",
       "    </tr>\n",
       "    <tr>\n",
       "      <th>modele</th>\n",
       "      <th></th>\n",
       "      <th></th>\n",
       "      <th></th>\n",
       "      <th></th>\n",
       "      <th></th>\n",
       "    </tr>\n",
       "  </thead>\n",
       "  <tbody>\n",
       "    <tr>\n",
       "      <th>AMG</th>\n",
       "      <td>luxe</td>\n",
       "      <td>210</td>\n",
       "      <td>5</td>\n",
       "      <td>3000</td>\n",
       "      <td>essence</td>\n",
       "    </tr>\n",
       "    <tr>\n",
       "      <th>XC60</th>\n",
       "      <td>haut de gamme</td>\n",
       "      <td>160</td>\n",
       "      <td>7</td>\n",
       "      <td>2750</td>\n",
       "      <td>essence</td>\n",
       "    </tr>\n",
       "  </tbody>\n",
       "</table>\n",
       "</div>"
      ],
      "text/plain": [
       "                gamme  vitesse_max  nbre_sieges  longueur motorisation\n",
       "modele                                                                \n",
       "AMG              luxe          210            5      3000      essence\n",
       "XC60    haut de gamme          160            7      2750      essence"
      ]
     },
     "execution_count": 45,
     "metadata": {},
     "output_type": "execute_result"
    }
   ],
   "source": [
    "mon_df_ex2 = pd.DataFrame(dictionnaire)\n",
    "\n",
    "# L'autre méthode consiste à rajouter une nouvelle colonne (Serie) avec les valeurs que nous souhaitons\n",
    "# A noter que cette opération ne pourra fonctionner que si le nombre d'éléments rajoutés et égal au nombre de lignes actuelles\n",
    "mon_df_ex2['modele'] = [\"AMG\", \"XC60\", \"Ka\", \"Cactus\"]\n",
    "\n",
    "# puis de transformer cette nouvelle colonne en index\n",
    "# ATTENTION \"set_index\" retourne un nouveau dataframe par défaut, mon_df_ex2 n'a pas l'index \"modele\"\n",
    "# Toutefois, il est possible avec le paramètre \"inplace\" de modifier le DataFrame original\n",
    "mon_df_indexe = mon_df_ex2.set_index('modele') \n",
    "mon_df_indexe.loc['AMG'] # On affichera encore le même résultat"
   ]
  },
  {
   "cell_type": "markdown",
   "metadata": {},
   "source": [
    "La gestion des index aura son importance pour la gestion des graphiques. Il est possible d'annuler l'index avec la méthode `reset_index()`. Avant de passer aux filtres voilà à quoi ressemble notre dataframe graphiquement.\n",
    "\n",
    "![dataframe](https://raw.githubusercontent.com/DanYellow/cours/main/big-data-s4/travaux-pratiques/numero-5/ressources/_images/dataframe.jpg)\n",
    "\n",
    "\n",
    "Les index n'ont pas à être uniques, plusieurs index peuvent avoir la même valeur. Toutefois pour des questions de performances, il est préférable qu'ils le soient ainsi pandas sera plus rapide pour trouver les résultats à vos recherches. Par ailleurs, il est aussi préférable d'avoir"
   ]
  },
  {
   "cell_type": "markdown",
   "metadata": {},
   "source": [
    "# Filtres\n",
    "\n",
    "La puissance des filtres de numpy est également utilisable avec les dataframes (et les Series), les filtres sont très utiles pour nettoyer les données ou sélectionner les données qui nous intéresse. On a vu plus haut qu'on pouvait utiliser la clé d'un index avec la propriété \".loc\". Il faut savoir qu'il est possible de récupérer plusieurs lignes en même temps. \n",
    "\n",
    "#### Exemples :\n",
    "\n",
    "###### On retourne les lignes 'AMG' et 'XC60'\n",
    "```python\n",
    "# Notez bien les deux paires de crochets. Ceci permet à la ligne de code de fonctionner mais aussi de retourner un DataFrame\n",
    "df.loc[['AMG', 'XC60']] \n",
    "\n",
    "# Autre syntaxe - mais ici dans double crochets. Etrangeté de pandas.\n",
    "# A noter que la syntaxe \":\" permet d'afficher toutes les lignes entre les deux bornes (bornes de départ et d'arrêt incluses)\n",
    "df.loc['AMG':'XC60']\n",
    "```\n",
    "\n",
    "###### On retourne une ligne avec des colonnes spécifiques\n",
    "```python\n",
    "# On retourne la valeur des clés \"marque\" et \"gamme\" pour la colonne ayant le nom \"AMG\"\n",
    "df.loc['AMG', ['marque', 'gamme']]\n",
    "# Il est possible de rajouter la propriété \".values\" pour avoir des données plus claires\n",
    "```\n",
    "\n",
    "Comme vu précédemment avec numpy, il est également possible sur les dataframes d'appliquer des conditions pour filtrer les données. Exemple :\n",
    "```python\n",
    "# On retourne les véhicules dont la clé \"vitesse_max\" est strictement supérieure à 130 et les colonnes \"gamme\" et \"vitesse_max\"\n",
    "df.loc[df['vitesse_max'] > 130, ['gamme', 'vitesse_max']]\n",
    "```\n",
    "\n",
    "Pour retourner **les** series qui nous intéresse, il suffit d'écrire la chose suivante : \n",
    "```python\n",
    "df[['gamme', 'longueur']]\n",
    "```\n",
    "On retourne un nouveau dataframe avec toutes les Series de \"gamme\" **à** \"longueur\". Remarquez bien l'absence de la propriété \".loc\"\n",
    "```python\n",
    "# Remarquez la présence de \".loc\" et l'absence de crochets entre \"'gamme': 'longueur'\"\n",
    "df.loc[:, 'gamme': 'longueur'] \n",
    "```\n",
    "\n",
    "Avec le code précédent on remarque la présence du caractère deux-points ( : ), on l'avait vu durant le TP d'initiation à Python. Avec pandas, on peut également l'utiliser pour filtrer le nombre d'entrées de notre DataFrame. De ce fait, nous pouvons écrire ceci :\n",
    "```python\n",
    "df[:1000]\n",
    "# Le code ci-dessus retourne que les 1000 premières entrées de notre DataFrame.\n",
    "```\n",
    "\n",
    "Pour rappel la syntaxe est la suivante `[index de départ:index de fin:pas d'avancement]`. Notez bien qu'en mettant le signe (-) on retournera les N dernières lignes. Par exemple, je souhaite retourner les 42 dernières lignes, je dois écrire `df[-42:]`."
   ]
  },
  {
   "cell_type": "markdown",
   "metadata": {},
   "source": [
    "# .loc[] ou pas .loc[]\n",
    "\n",
    "La propriété `.loc[]` est une propriété permettant d'accéder à des parties d'un DataFrame. Sa signature est la suivante :\n",
    "```python\n",
    ".loc[index_ciblées : colonnes_ciblées]\n",
    "```\n",
    "\n",
    "Ses paramètres sont relativement variés et donc ses fonctionnalités :\n",
    "- Retourner un ensemble de series (colonnes) : `df.loc[:,'col1':'colN']`. A noter que si \"colN\" est absent, toutes les colonnes de \"col1\" à la dernière seront retournées\n",
    "- Retourner un ensemble de lignes : `df.loc['val_index1':'val_indexN',]`. A noter que si \"ligneN\" est absent, toutes les lignes de \"col1\" à la dernière seront retournées\n",
    "- Retourner un ensemble de lignes **discontinues** : `df.loc[['val_index1', 'val_index4','val_indexN'],]`. Même syntaxe pour les colonnes.\n",
    "  - A noter que si vous ne voulez retourner **que** des colonnes (disconinue ou non), il faudra comme le premier exemple mettre `:,` sinon pandas pensera que vous cherchez des index\n",
    "- Remplacer une valeur pour une series (colonne) correspondant aux index définis : `df.loc[['index1', '...'], ['col1']] = 50`\n",
    "  \n",
    "Encore une fois, l'utilisation de propriété `.loc[]` n'est pas obligatoire, toutefois son utilisation est utile, voire indispensable, dans certains cas."
   ]
  },
  {
   "cell_type": "markdown",
   "metadata": {},
   "source": [
    "# A vous de coder\n",
    "\n",
    "Définir des DataFrame correspondants aux critères suivants (une ligne, un nouvel dataframe) :\n",
    "- Contient tous les véhicules dont la longueur est supérieure à 1 000\n",
    "- Contient tous les véhicules dont la vitesse max est inférieure ou égale à 160\n",
    "- Contient tous les véhicules dont le nombre de sièges est strictement supérieur à 5 et dont la longueur est inférieure à 2 000\n",
    "- Contient uniquement les véhicules de la gamme \"compacte\" et les Series \"marque\" et \"longueur\"\n",
    "- Contient uniquement les Series \"prix\" et \"motorisation\"\n",
    "\n",
    "Note : La cellule d'en-dessous introduit un DataFrame plus conséquent\n",
    "\n",
    "Note 2 : Pour afficher les DataFrame de façon plus élégantes, il est préférable d'utiliser la fonction `display()`, elle fonctionne comme la fonction `print()`, mais elle est propre à jupyter.\n",
    "\n",
    "Note 3 : si vous n'êtes pas sûr d'avoir obtenu un DataFrame, vous pouvez utiliser la fonction `type()` pour afficher le type de vos objets."
   ]
  },
  {
   "cell_type": "markdown",
   "metadata": {},
   "source": [
    "# Pour les utilisateurs de Google colab\n",
    "\n",
    "Petit apparté pour les utilisateurs de google colab. Pour charger un fichier local, il faudra rajouter les lignes de codes suivantes :\n",
    "\n",
    "```python\n",
    "from google.colab import files\n",
    "uploaded = files.upload()\n",
    "\n",
    "import pandas as pd\n",
    "import io\n",
    "# Très important : le nom du fichier passé en paramètre de la fonction \"uploaded\" doit avoir le même nom que le fichier que vous avez uploadé sinon, \n",
    "# vous aurez forcément une erreur\n",
    "df = pd.read_csv(io.BytesIO(uploaded['nom-du-fichier-uploader.csv']))\n",
    "```\n",
    "- **Ces lignes doivent être avant la manipulation d'un DataFrame et de préférence dans une cellule dédiée pour éviter d'uploader votre fichier à chaque fois**\n",
    "- **Vous ne pouvez pas importer de fichiers en navigation privée**\n",
    "\n",
    "- [Voir plus d'informations sur le chargement de fichiers externes avec Google colab - anglais](https://towardsdatascience.com/3-ways-to-load-csv-files-into-colab-7c14fcbdcb92)"
   ]
  },
  {
   "cell_type": "code",
   "execution_count": 3,
   "metadata": {},
   "outputs": [
    {
     "data": {
      "text/plain": [
       "array(['BMW', 'Volvo', 'Ford', 'Citroen', 'Toyota', 'Ferrari', 'Tesla',\n",
       "       'Honda', 'Renault', 'Mercedes', 'Porsche', 'Peugeot', 'Dacia',\n",
       "       'Opel', 'Jeep', 'Kia', 'Fiat', 'Mazda', 'Nissan'], dtype=object)"
      ]
     },
     "metadata": {},
     "output_type": "display_data"
    },
    {
     "data": {
      "text/plain": [
       "['marque',\n",
       " 'gamme',\n",
       " 'vitesse_max km/h',\n",
       " 'nbre_sieges',\n",
       " 'longueur (mm)',\n",
       " 'motorisation',\n",
       " 'annee_sortie',\n",
       " 'prix €']"
      ]
     },
     "metadata": {},
     "output_type": "display_data"
    }
   ],
   "source": [
    "import pandas as pd\n",
    "\n",
    "# Pour avoir un peu plus de données, nous allons charger un fichier csv, le fichier \"liste_voitures.csv\", \n",
    "# ça sera plus simple pour la lisibilité\n",
    "# Les lignes pour importer ce fichier seront expliquée dans la partie suivante\n",
    "# Les clés restent\n",
    "voitures_df = pd.read_csv(\"liste_voitures.csv\", sep=\",\", encoding=\"utf-8\").set_index('modele')\n",
    "\n",
    "# Contient la liste de toutes les marques unique de notre DataFrame\n",
    "liste_marque = voitures_df[\"marque\"].unique()\n",
    "display(liste_marque)\n",
    "\n",
    "# Affiche toutes les clés de notre DataFrame\n",
    "display(voitures_df.columns.values.tolist())\n",
    "# Contient tous les véhicules dont la longueur est supérieure à 1 000"
   ]
  },
  {
   "cell_type": "code",
   "execution_count": 5,
   "metadata": {},
   "outputs": [],
   "source": [
    "# Contient tous les véhicules dont la vitesse max est inférieure ou égale à 160"
   ]
  },
  {
   "cell_type": "code",
   "execution_count": 6,
   "metadata": {},
   "outputs": [],
   "source": [
    "# Contient tous les véhicules dont le nombre de sièges est strictement supérieur à 5 et dont la longueur est inférieure à 2 000"
   ]
  },
  {
   "cell_type": "code",
   "execution_count": 49,
   "metadata": {},
   "outputs": [
    {
     "data": {
      "text/html": [
       "<div>\n",
       "<style scoped>\n",
       "    .dataframe tbody tr th:only-of-type {\n",
       "        vertical-align: middle;\n",
       "    }\n",
       "\n",
       "    .dataframe tbody tr th {\n",
       "        vertical-align: top;\n",
       "    }\n",
       "\n",
       "    .dataframe thead th {\n",
       "        text-align: right;\n",
       "    }\n",
       "</style>\n",
       "<table border=\"1\" class=\"dataframe\">\n",
       "  <thead>\n",
       "    <tr style=\"text-align: right;\">\n",
       "      <th></th>\n",
       "      <th>marque</th>\n",
       "    </tr>\n",
       "    <tr>\n",
       "      <th>modele</th>\n",
       "      <th></th>\n",
       "    </tr>\n",
       "  </thead>\n",
       "  <tbody>\n",
       "    <tr>\n",
       "      <th>Ka</th>\n",
       "      <td>Ford</td>\n",
       "    </tr>\n",
       "    <tr>\n",
       "      <th>Twingo</th>\n",
       "      <td>Renault</td>\n",
       "    </tr>\n",
       "    <tr>\n",
       "      <th>Aygo</th>\n",
       "      <td>Toyota</td>\n",
       "    </tr>\n",
       "  </tbody>\n",
       "</table>\n",
       "</div>"
      ],
      "text/plain": [
       "         marque\n",
       "modele         \n",
       "Ka         Ford\n",
       "Twingo  Renault\n",
       "Aygo     Toyota"
      ]
     },
     "execution_count": 49,
     "metadata": {},
     "output_type": "execute_result"
    }
   ],
   "source": [
    "# Contient uniquement les véhicules de la gamme \"compacte\" et les Series \"marque\" et \"longueur\""
   ]
  },
  {
   "cell_type": "code",
   "execution_count": 8,
   "metadata": {},
   "outputs": [],
   "source": [
    "# Contient uniquement les Series \"prix\" et \"motorisation\""
   ]
  },
  {
   "cell_type": "markdown",
   "metadata": {},
   "source": [
    "# A vous de coder \n",
    "### Pensez bien à afficher les résultat avec la fonction `print()` ou `display()`\n",
    "\n",
    "Définir des DataFrame correspondant aux critères suivants (une ligne, un nouvel dataframe) :\n",
    "- Contient tous les véhicules ayant une motorisation \"hybride\"\n",
    "- Contient tous les véhicules sortis après 2015\n",
    "- Contient tous les véhicules avec une nouvelle Serie (colonne) appelée \"vitesse_max m/h\" et comme valeur la vitesse_max de chaque véhicule en miles/heure\n",
    "  - Note : 1 km/h = 0.621371 m/h\n",
    "\n",
    "Définir des variables correspondant aux critères suivants (une ligne, une variable) :\n",
    "- Contient le nombre de voiture de la gamme \"compacte\"\n",
    "- Contient la somme des des longueurs des voitures\n",
    "- Contient l'année qui apparaît le plus dans le DataFrame"
   ]
  },
  {
   "cell_type": "code",
   "execution_count": 9,
   "metadata": {},
   "outputs": [],
   "source": [
    "# Contient tous les véhicules ayant un type_moteur \"hybride\""
   ]
  },
  {
   "cell_type": "code",
   "execution_count": 10,
   "metadata": {},
   "outputs": [],
   "source": [
    "# Contient tous les véhicules sortis après 2015"
   ]
  },
  {
   "cell_type": "code",
   "execution_count": 74,
   "metadata": {},
   "outputs": [],
   "source": [
    "# Contient tous les véhicules avec une nouvelle Serie (colonne) appelée \"vitesse_max m/h\" et comme valeur la vitesse_max de chaque véhicule en miles/heure"
   ]
  },
  {
   "cell_type": "code",
   "execution_count": null,
   "metadata": {},
   "outputs": [],
   "source": [
    "# Contient le nombre de voiture de la gamme \"compacte\""
   ]
  },
  {
   "cell_type": "code",
   "execution_count": null,
   "metadata": {},
   "outputs": [],
   "source": [
    "# Contient la somme des des longueurs des voitures"
   ]
  },
  {
   "cell_type": "code",
   "execution_count": null,
   "metadata": {},
   "outputs": [],
   "source": [
    "# Contient l'année qui apparaît le plus dans le DataFrame"
   ]
  },
  {
   "cell_type": "markdown",
   "metadata": {},
   "source": [
    "Avec la construction des deux derniers DataFrame, nous avons pu voir qu'il était possible appliquer sur une colonne une opération. Héritant de numpy, il est possible d'utiliser des fonctions déjà présentes dans la bibliothèque pour obtenir certains résultats. Par exemple si nous souhaitons obtenir l'année ayant le plus de sorties de véhicules dans notre DataFrame, autrement dit l'année qui apparaît le plus dans le DataFrame, il suffit de calculer le mode grâce à la fonction `.mode()`"
   ]
  },
  {
   "cell_type": "code",
   "execution_count": 73,
   "metadata": {},
   "outputs": [
    {
     "data": {
      "text/plain": [
       "pandas.core.series.Series"
      ]
     },
     "metadata": {},
     "output_type": "display_data"
    }
   ],
   "source": [
    "# Le mode en mathématiques désigne la valeur la plus présente dans une distribution, \n",
    "# pandas/numpy nous retourne une Serie, c'est pour ça que nous avons adjoint \"[0]\" pour retourner la valeur qui nous intéresse\n",
    "annee_avec_plus_sorties = voitures_df[\"annee_sortie\"].mode()\n",
    "display(annee_avec_plus_sorties[0])"
   ]
  },
  {
   "cell_type": "markdown",
   "metadata": {},
   "source": [
    "Avec les DataFrame que nous avons construits, nous avons fait le choix de sélectionner les données que nous voulions, mais il est tout à fait possible de faire l'inverse : supprimer les données dont nous n'avons pas besoin. \n",
    "\n",
    "Par exemple, sélectionner tous les véhicules dont la longueur est supérieure ou égale à 2 500 (mm), ça revient à supprimer tous les véhicules dont la longueur est strictement inférieure à 2 500 (mm). Et pour supprimer des lignes qui ne répondent pas aux des critières définis il faut utiliser la fonction `.drop()`.   \n",
    "\n",
    "```python\n",
    "df.drop(df[<nos conditions>].index)\n",
    "\n",
    "# Exemple avec le cas de la longueur des véhicules\n",
    "# Le code suivant va retourner un DataFrame avec tous les véhicules dont la longueur est strictement inférieure à 2500 (mm).\n",
    "# Si nous souhaitions muter le DataFrame voiture_df, il aurait fallu rajouter le paramètre \"inplace=True\".\n",
    "longueur_max = 2500\n",
    "voitures_df.drop(voitures_df[voitures_df['longueur (mm)'] < longueur_max].index)\n",
    "```"
   ]
  },
  {
   "cell_type": "markdown",
   "metadata": {},
   "source": [
    "# Groupons-les\n",
    "Parfois, nous aurons besoin de répondre à des questions comme :\n",
    "- Quel est le total d'éléments pour **chaque** catégorie ?\n",
    "- Quel est la moyenne pour **chaque** catégorie ?\n",
    "  \n",
    "Le mot-clé ici est \"chaque\", car jusqu'à présent, nous avons effectué des calculs sur l'ensemble d'une série, mais est-ce tout le temps pertinent ? Pas vraiment. Reprenons notre DataFrame de voitures, est-ce réellement utile d'avoir la vitesse moyenne de tous les véhicules ? Ne serait-il pas plus pertinent d'avoir la vitesse moyenne par gamme (clé \"gamme\") ? Oui.\n",
    "\n",
    "C'est ici qu'entre en jeu la méthode groupby, son fonctionnement est relativement simple, on lui passe en paramètre la ou les colonnes que l'on souhaite grouper, et pandas, tout seul, va grouper les éléments en fonction des valeurs des colonnes passées en paramètre. A partir de là, nous pouvons appliquer une opération mathématique dessus :\n",
    "- `sum()` : Somme des valeurs par groupe\n",
    "- `median()` : Médiane des valeurs par groupe\n",
    "- `std()` : écart-type des valeurs par groupe\n",
    "- `min()` : valeur minimale des valeurs par groupe\n",
    "- `count()` : nombre de valeurs valeurs par groupe\n",
    "- ...\n",
    "\n",
    "- [Voir documentation de la méthode groupby - anglais](https://pandas.pydata.org/pandas-docs/stable/reference/api/pandas.DataFrame.groupby.html)\n",
    "\n",
    "Donc ceci donne quelque chose comme ceci :\n",
    "```python\n",
    "# reset_index() est rajouté pour que le DataFrame final n'ait plus d'index ceci est utile dans certains cas\n",
    "# sum() sera donc à remplacer en fonction de l'opération voulue\n",
    "# Le code suivant regroupe les lignes selon les colonnes \"col1\" et \"colN\"\n",
    "df.groupby(['col1', 'colN']).sum().reset_index()\n",
    "```\n",
    "Bien évidemment, effectuez ces calculs sur des Series numériques et non textuelles.\n",
    "\n",
    "# A vous de coder\n",
    "\n",
    "Définir des DataFrame correspondants aux critères suivants (une ligne, un nouveau DataFrame) :\n",
    "- Contient la vitesse moyenne (en km/h) des véhicules par gamme\n",
    "- Contient la vitesse maximale (en km/h) des véhicules par gamme\n",
    "- Contient la vitesse maximale (en km/h) des véhicules par marque\n",
    "- Contient la vitesse médiane (en km/h) des véhicules par motorisation\n",
    "- Contient le prix moyen des véhicules par année de sortie\n",
    "- Contient l'écart-type entre les véhicules d'une marque de votre choix\n",
    "  - Pensez à créer un DataFrame intermédiaire si besoin\n",
    "  - N'oubliez pas que toutes les marques ont été listées plus haut"
   ]
  },
  {
   "cell_type": "code",
   "execution_count": null,
   "metadata": {},
   "outputs": [],
   "source": [
    "# Codez ici"
   ]
  },
  {
   "cell_type": "markdown",
   "metadata": {},
   "source": [
    "Pour terminer sur la méthode `groupby()`, il existe également la méthode `.agg()` ou `aggregate()` (l'un est l'alias de l'autre) qui permet d'appliquer plusieurs fonctions mathématiques en même temps. \n",
    "```python\n",
    "# Là notre code va retourner un DataFrame contenant la valeur maximale et mininale pour la vitesse et le prix moyen et médian par marque\n",
    "voitures_df.groupby(['marque']).agg({'vitesse_max km/h' : ['max', 'min'], 'prix €' : ['mean', \"median\"]})\n",
    "``` \n",
    "Si le nom des champs ne vous plaisent pas, vous pouvez les renommer comme ceci :\n",
    "```python\n",
    "# Ici on renomme les champs \"max\" et \"mean\"\n",
    "voitures_df.groupby(['marque'])\n",
    "  .agg({'vitesse_max km/h' : ['max', 'min'], 'prix €' : ['mean', \"median\"]})\n",
    "  .rename(columns={'max':'vitesse max', \"mean\": \"vitesse moyenne\"})\n",
    "```\n",
    "\n",
    "Il est également possible d'utiliser les méthodes `.agg()` et `aggregate()` **sur l'ensemble du DataFrame** comme suit :\n",
    "```python\n",
    "# Là notre code va retourner un DataFrame contenant la valeur maximale et mininale pour la vitesse et le prix moyen et médian sans catégorisation.\n",
    "voitures_df.agg({'vitesse_max km/h' : ['max', 'min'], 'prix €' : ['mean', \"median\"]})\n",
    "``` \n",
    "\n",
    "- [Voir plus d'exemples sur les manipulations des groupes - anglais (utilisez la navigation privée si vous ne pouvez pas charger la page entièrement)](https://towardsdatascience.com/all-pandas-groupby-you-should-know-for-grouping-data-and-performing-operations-2a8ec1327b5)"
   ]
  },
  {
   "cell_type": "markdown",
   "metadata": {},
   "source": [
    "# Petite astuce\n",
    "\n",
    "Avant de terminer, voici un fragment de code qui pourra nous être utile. Quand nous manipulons des dates (ici des années), il peut être intéressant d'avoir la décennie, donc la tranche de 10 ans à laquelle l'année appartient notre ligne. Pour ce faire, c'est relativement simple, nous allons tout simplement :\n",
    "- Diviser par 10 l'année\n",
    "- Récupérer la troncature du résultat précédent\n",
    "- Multiplier le résultat précédent par 10\n",
    "\n",
    "En Python, les deux premières opérations peuvent être effectuées en une seule grâce à l'opérateur `//`. Cet opérateur divise et ne retourne que la troncature du quotient et après on multiplie le tout par 10.\n",
    "\n",
    "Ajoutons une nouvelle colonne \"decennie_sortie\" à notre DataFrame."
   ]
  },
  {
   "cell_type": "code",
   "execution_count": 1,
   "metadata": {},
   "outputs": [
    {
     "ename": "NameError",
     "evalue": "name 'voitures_df' is not defined",
     "output_type": "error",
     "traceback": [
      "\u001b[1;31m---------------------------------------------------------------------------\u001b[0m",
      "\u001b[1;31mNameError\u001b[0m                                 Traceback (most recent call last)",
      "\u001b[1;32m~\\AppData\\Local\\Temp/ipykernel_12836/3608161733.py\u001b[0m in \u001b[0;36m<module>\u001b[1;34m\u001b[0m\n\u001b[1;32m----> 1\u001b[1;33m \u001b[0mvoitures_df\u001b[0m\u001b[1;33m[\u001b[0m\u001b[1;34m\"decade_sortie\"\u001b[0m\u001b[1;33m]\u001b[0m \u001b[1;33m=\u001b[0m \u001b[0mvoitures_df\u001b[0m\u001b[1;33m[\u001b[0m\u001b[1;34m\"annee_sortie\"\u001b[0m\u001b[1;33m]\u001b[0m \u001b[1;33m//\u001b[0m \u001b[1;36m10\u001b[0m \u001b[1;33m*\u001b[0m \u001b[1;36m10\u001b[0m\u001b[1;33m\u001b[0m\u001b[1;33m\u001b[0m\u001b[0m\n\u001b[0m\u001b[0;32m      2\u001b[0m \u001b[1;33m\u001b[0m\u001b[0m\n\u001b[0;32m      3\u001b[0m \u001b[0mdisplay\u001b[0m\u001b[1;33m(\u001b[0m\u001b[0mvoitures_df\u001b[0m\u001b[1;33m[\u001b[0m\u001b[1;33m[\u001b[0m\u001b[1;34m\"marque\"\u001b[0m\u001b[1;33m,\u001b[0m \u001b[1;34m\"decade_sortie\"\u001b[0m\u001b[1;33m]\u001b[0m\u001b[1;33m]\u001b[0m\u001b[1;33m)\u001b[0m\u001b[1;33m\u001b[0m\u001b[1;33m\u001b[0m\u001b[0m\n",
      "\u001b[1;31mNameError\u001b[0m: name 'voitures_df' is not defined"
     ]
    }
   ],
   "source": [
    "voitures_df[\"decade_sortie\"] = voitures_df[\"annee_sortie\"] // 10 * 10\n",
    "\n",
    "# On affiche la colonne \"marque\" et la nouvelle colonne \"decade_sortie\"\n",
    "# Par exemple 2014 deviendra 2010 dans la colonne \"decade_sortie\"\n",
    "display(voitures_df[[\"marque\", \"decade_sortie\"]])"
   ]
  },
  {
   "cell_type": "markdown",
   "metadata": {},
   "source": [
    "Ce code pourrait nous être très utile plus tard.\n",
    "\n",
    "Ceci met fin à la première partie du tp concernant pandas. Si nous avons bien effectué différentes opérations des DataFrame, ceux que nous avons utilisés sont relativement petits. Rappelons que nous faisons du Big Data et en Big Data, on travaille avec de très, très gros volumes de données. Bien évidemment nous n'allons pas écrire de gros DataFrame, nous allons utiliser des jeux de données existants. Et à l'heure de l'Open Data, des jeux de données il y en a pléthore."
   ]
  }
 ],
 "metadata": {
  "interpreter": {
   "hash": "8ed06d07b9ff369db6ed7b53447be18709da67cd911d838d72fee7fecb26667a"
  },
  "kernelspec": {
   "display_name": "Python 3.10.0 64-bit",
   "name": "python3"
  },
  "language_info": {
   "codemirror_mode": {
    "name": "ipython",
    "version": 3
   },
   "file_extension": ".py",
   "mimetype": "text/x-python",
   "name": "python",
   "nbconvert_exporter": "python",
   "pygments_lexer": "ipython3",
   "version": "3.8.12"
  }
 },
 "nbformat": 4,
 "nbformat_minor": 4
}
