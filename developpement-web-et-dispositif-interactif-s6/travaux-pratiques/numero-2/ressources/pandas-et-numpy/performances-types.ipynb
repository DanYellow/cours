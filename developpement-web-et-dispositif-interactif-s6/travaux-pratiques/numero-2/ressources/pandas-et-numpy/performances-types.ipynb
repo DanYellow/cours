{
 "cells": [
  {
   "cell_type": "markdown",
   "metadata": {},
   "source": [
    "# Combien d'espace mémoire (RAM) consomme mon DataFrame ? # `df.info()` - Suite\n",
    "\n",
    "Le but de ce notebook est de montrer à quel point typer les colonnes d'un fichier de données peut faire une différence dans la RAM. Si pour un petit dataframe, la différence est faible, elle peut être flagrante et critique sur un gros dataset comme celui des prénoms (il faudra le déplacer dans ce dossier).\n",
    "\n",
    "- [Télécharger dataset des prénoms](https://github.com/DanYellow/cours/blob/main/big-data-s4/datasets/naissances-par-departement-1900-2020.zip) (Cliquez sur le bouton \"télécharger / Download\")"
   ]
  },
  {
   "cell_type": "code",
   "execution_count": 12,
   "metadata": {},
   "outputs": [
    {
     "name": "stdout",
     "output_type": "stream",
     "text": [
      "<class 'pandas.core.frame.DataFrame'>\n",
      "RangeIndex: 3727553 entries, 0 to 3727552\n",
      "Data columns (total 5 columns):\n",
      " #   Column    Dtype \n",
      "---  ------    ----- \n",
      " 0   sexe      int64 \n",
      " 1   preusuel  object\n",
      " 2   annais    object\n",
      " 3   dpt       object\n",
      " 4   nombre    int64 \n",
      "dtypes: int64(2), object(3)\n",
      "memory usage: 142.2+ MB\n"
     ]
    }
   ],
   "source": [
    "# Colonne\n",
    "import pandas as pd\n",
    "\n",
    "df_pas_types = pd.read_csv(\"dpt2020.csv\", sep=';')\n",
    "df_pas_types.info()\n",
    "\n",
    "del df_pas_types"
   ]
  },
  {
   "cell_type": "code",
   "execution_count": 13,
   "metadata": {},
   "outputs": [
    {
     "name": "stdout",
     "output_type": "stream",
     "text": [
      "<class 'pandas.core.frame.DataFrame'>\n",
      "RangeIndex: 3727553 entries, 0 to 3727552\n",
      "Data columns (total 5 columns):\n",
      " #   Column    Dtype \n",
      "---  ------    ----- \n",
      " 0   sexe      object\n",
      " 1   preusuel  object\n",
      " 2   annais    object\n",
      " 3   dpt       object\n",
      " 4   nombre    int32 \n",
      "dtypes: int32(1), object(4)\n",
      "memory usage: 128.0+ MB\n"
     ]
    }
   ],
   "source": [
    "import pandas as pd\n",
    "\n",
    "df_types = pd.read_csv(\"dpt2020.csv\", sep=\";\", dtype={\n",
    "    \"preusuel\": str,\n",
    "    \"sexe\": str,\n",
    "    \"annais\": str,\n",
    "    \"dpt\": str,\n",
    "    \"nombre\": int,\n",
    "})\n",
    "df_types.info()\n",
    "\n",
    "del df_types"
   ]
  }
 ],
 "metadata": {
  "interpreter": {
   "hash": "c469c999aae2bf6d578d6881606ced546d1546d312a4811937df5b24665ee8bc"
  },
  "kernelspec": {
   "display_name": "Python 3.8.12 64-bit (conda)",
   "language": "python",
   "name": "python3"
  },
  "language_info": {
   "codemirror_mode": {
    "name": "ipython",
    "version": 3
   },
   "file_extension": ".py",
   "mimetype": "text/x-python",
   "name": "python",
   "nbconvert_exporter": "python",
   "pygments_lexer": "ipython3",
   "version": "3.8.12"
  },
  "orig_nbformat": 4
 },
 "nbformat": 4,
 "nbformat_minor": 2
}
