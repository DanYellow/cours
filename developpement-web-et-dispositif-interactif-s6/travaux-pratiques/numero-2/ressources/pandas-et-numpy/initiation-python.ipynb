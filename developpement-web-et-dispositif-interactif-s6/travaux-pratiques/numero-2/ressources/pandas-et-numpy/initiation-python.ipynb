{
 "cells": [
  {
   "cell_type": "markdown",
   "metadata": {},
   "source": [
    "# Introduction\n",
    "\n",
    "Python est un langage de programmation, sa première version date du début des années 90. C'est un lanagage haut niveau, ceci signifie que les mot-clés sont souvent issus de la langue anglaise ou encore qu'il y a beaucoup d'abstractions, ce qui rend son apprentissage plus *simple*. Par exemple, les développeurs n'ont pas à gérer la mémoire en Python. `malloc`, `alloc`, tout ça on oublie.\n",
    "\n",
    "Le langage est extrêmement polyvalent, on peut l'utiliser pour faire des serveurs web, des logiciels ou encore de la science de données, c'est ce dernier domaine qui nous intéresse dans ce cours.\n",
    "\n",
    "Attention, la syntaxe du Python peut être déroutante de prime à bord, en Python pas d'accolades ({}) ou de point-virgules ( ; ) pour grouper les instructions, les imbrications sont faites avec des espaces (qui peuvent être remplacés par des \"tabulations\")."
   ]
  },
  {
   "cell_type": "markdown",
   "metadata": {},
   "source": [
    "Le cours étant dédié à l'univers du Big Data, nous n'allons pas faire du Python de façon _traditionnelle_, en tant normal, il nous faudrait créer des fichiers avec l'extension \".py\" et les compiler, mais grâce à **Jupyter Notebook**, nous allons pouvoir faire du Python de façon beaucoup plus conviale et interactive. Par ailleurs Jupyter Notebook est un outil très utilisé en data-science.\n",
    "\n",
    "Jupyter notebook propose des avantages non négligeables comme la possibilité de formatter du texte grace au markdown, c'est d'ailleurs avec ce langage de mise en page qu'est écrit ce que vous lisez.\n",
    "- [Voir la documentation du markdown](https://github.com/adam-p/markdown-here/wiki/Markdown-Cheatsheet)\n",
    "\n",
    "Les notebooks servent également à coder en Python, compiler le code et voir le résultat. Pratique.\n",
    "\n",
    "Ce logiciel fonctionne avec un système de cellules, le texte que vous lisez présentement est dans une cellule (écrite en markdown), il existe deux types de cellules :\n",
    "- \"markdown\" pour le texte\n",
    "- \"code\" pour coder en Python\n",
    "\n",
    "Pour ajouter une nouvelle cellule rien de plus simple, il suffit de sélectionner le type de cellule que vous souhaiter ajouter (en bas de cellule ou tout en haut de l'interface).\n",
    "\n",
    "![alt text](ajout-cellule.jpg)\n",
    "\n",
    "Les cellules de type \"Code\" doivent être compilées pour voir le résultat\n",
    "\n",
    "Sachez qu'il est également possible d'exécuter une cellule avec le raccourci clavier `maj` + `entrée`. Par défaut, c'est la cellule courante/active qui est executée, il est possible d'en exécuter plusieurs en même temps en sélectionnant plusieurs cellules en maintenant la touche `maj`.\n",
    "\n",
    "Il y a d'autres options dans la barre d'outils, on ne va pas toutes les lister, à vous d'expérimenter. En tous les cas ,les trois fonctionnalités listées sont celles qu'on utilisera le plus.\n",
    "\n",
    "P.-S. : Pour éditer une cellule markdown, il vous suffit de double-cliquer dessus.\n",
    "\n",
    "P.-S. 2 : Il est possible d'utiliser jupyter sous VS Code, en revanche, il vous faudra utiliser une extension appelée \"Jupyter\" et le fonctionnement reste peu ou prou le même, on crée des cellules, on les lance..."
   ]
  },
  {
   "cell_type": "markdown",
   "metadata": {},
   "source": [
    "# Initiation à Python\n",
    "\n",
    "Avant toute chose, nous faisons du Python 3, version la plus moderne (2022) du langage, **avant de recopier du code trouvé sur le web assurez-vous bien que c'est bien du code Python 3 et non Python 2**, car la syntaxe, sur certains points a changé entre les versions."
   ]
  },
  {
   "cell_type": "markdown",
   "metadata": {},
   "source": [
    "# Variables\n",
    "\n",
    "Le typage des variables n'est pas obligatoire en Python, mieux encore, il n'est pas utile de déclarer les variables, il n'y a pas de mot-clé comme `var` ou `let` comme en javascript, une variable est déclarée à sa première apparition dans le code. A noter que le nom des variables est sensible à la casse. Ainsi déclarer une variable qui s'appelle \"uneVar\", n'est pas la même chose que \"unevar\".\n",
    "\n",
    "Par convention, les variables/fonctions/méthodes en Python sont écrites en \"snake case\" ceci signifie donc que les mots des fonctions et variables sont écrits en minuscules et séparés par des tirets bas (_). On écrira plutôt \"une_var\" au lieu de \"unevar\" pour respecter la convention Pyhon.\n",
    "\n",
    "- [Voir documentation sur la snake case](https://fr.wikipedia.org/wiki/Snake_case)"
   ]
  },
  {
   "cell_type": "code",
   "execution_count": 2,
   "metadata": {},
   "outputs": [
    {
     "name": "stdout",
     "output_type": "stream",
     "text": [
      "90\n"
     ]
    }
   ],
   "source": [
    "# Exemples (le caractère \"#\" permet de définir un commentaire)\n",
    "\n",
    "premiere_var = \"Ma première valeur\" # Ici on déclare une chaîne de caractères\n",
    "un_entier = 5 # Ici un entier\n",
    "une_liste = [45, \"bonjour\", 87, \"90\"] # Ici une liste\n",
    "un_booleen_vrai = True # La majuscule est très importante\n",
    "un_booleen_faux = False # La majuscule est très importante\n",
    "\n",
    "var1, var2 = 1, 2 # on déclare deux variables sur la même ligne"
   ]
  },
  {
   "cell_type": "markdown",
   "metadata": {},
   "source": [
    "Il est même possible de concatener les variables avec le caractère `+`"
   ]
  },
  {
   "cell_type": "code",
   "execution_count": 1,
   "metadata": {},
   "outputs": [
    {
     "data": {
      "text/plain": [
       "'Bonjour Tout le monde'"
      ]
     },
     "execution_count": 1,
     "metadata": {},
     "output_type": "execute_result"
    }
   ],
   "source": [
    "ma_premiere_chaine = \"Bonjour\"\n",
    "ma_seconde_chaine = \"Tout le monde\"\n",
    "\n",
    "# Et ici on affiche tout avec un espace entre les deux chaînes\n",
    "ma_premiere_chaine + \" \" + ma_seconde_chaine\n",
    "\n",
    "# On peut être un peu plus malin et utiliser les f-strings, de ce fait, l'exemple précédent peut s'écrire de la façon suivante\n",
    "f\"{ma_premiere_chaine} {ma_seconde_chaine}\"\n",
    "# Pratique, non ?"
   ]
  },
  {
   "cell_type": "markdown",
   "metadata": {},
   "source": [
    "# A vous de coder\n",
    "\n",
    "Déclarez des variables répondant aux critères suivants (une ligne une variable) :\n",
    "- Un nombre décimal\n",
    "- Une chaîne de caractères\n",
    "- Une liste de nombres entiers\n",
    "  - (Une variable) contenant la deuxième valeur de votre liste\n",
    "  - (Une variable) contenant la dernière valeur de votre liste\n",
    "    - Notez que votre code doit fonctionner quelque soit la longueur de la liste. Ne mettez pas un index en dur.\n",
    "- Un dictionnaire / tableau associatif (vous allez devoir chercher sur le web la réponse)\n",
    "\n",
    "Affichez le résultat avec la fonction `print()`. Il faudra également penser à compiler en faisant la combinaison de touches `maj` + `entrée` ou cliquer sur le bouton \"exécuter\" placé plus haut.\n",
    "\n",
    "## Fonction print()\n",
    "La fonction print() est une fonction de base dans le langage Python, elle permet d'afficher le contenu de variables. Cette fonction peut prendre plusieurs paramètres, nous pouvons donc écrire `print(maVar)` ou bien `print(maVar1, maVar2)`. Il est même possible de définir le séparateur entre chaque variable avec le paramètre `sep`, ainsi si l'exemple précédent `print(maVar1, maVar2)` affichera le résultat des deux variables côte-à-côte en rajoutant `sep=' '` chaque valeur sera séparée par un espace.\n",
    "\n",
    "- [Voir documentation fonction print() - anglais](https://docs.python.org/3/library/functions.html#print)\n",
    "- [Voir exemples d'utilisations de la fonction print() - anglais](https://realpython.com/python-print/)\n",
    "\n",
    "```python\n",
    "# Exemple d'utilisation de la fonction print()\n",
    "print(\"Hello world\")\n",
    "```\n",
    "\n",
    "#### **N'oubliez pas de sauvegarder**"
   ]
  },
  {
   "cell_type": "code",
   "execution_count": 8,
   "metadata": {
    "scrolled": true
   },
   "outputs": [],
   "source": [
    "# Codez ici"
   ]
  },
  {
   "cell_type": "markdown",
   "metadata": {},
   "source": [
    "Bravo, vous avez écrit avec brio vos premières lignes en Python. La fonction `print()` nous sera très utile pour débugger. **Jupyter propose également la fonction `display()`**, le rôle est identique à `print()` sauf que l'affichage est parfois plus élégant notamment sur les DataFrame, mais on verra plus tard les DataFrame.\n",
    "\n",
    "# Un dictionnaire / tableau associatif\n",
    "\n",
    "Un tableau associatif est une structure très utile pour stocker des données qui vont ensemble, cette structure est composée de clés-valeurs où les clés, contrairement aux tableaux classiques, sont des chaînes de caractères (et parfois des entiers) ce qui rend leur structuration plus ordonnée. \n",
    "\n",
    "Dans un tableau associatif, il est possible d'accéder à une valeur via la clé de l'index. Considérons le dictionnaire suivant :\n",
    "```python\n",
    "voiture = {\n",
    "    \"marque\": \"Porsche\",\n",
    "    \"modele\": \"Panamera\",\n",
    "    \"prix\": 50000\n",
    "}\n",
    "```\n",
    "Si je veux accéder à la valeur placée pour la clé \"marque\", il faudra écrire `voiture[\"marque\"]`.\n",
    "\n",
    "- [Voir documentation sur les dictionnaires en Python - anglais](https://www.w3schools.com/python/python_dictionaries.asp)\n",
    "\n",
    "# A vous de coder\n",
    "\n",
    "- Utiliser la fonction `print()` ou `display()` pour afficher une valeur du dictionnaire que vous avez crée précédemment.\n",
    "\n",
    "#### **N'oubliez pas de sauvegarder**"
   ]
  },
  {
   "cell_type": "markdown",
   "metadata": {},
   "source": [
    "# if... else et boucle for"
   ]
  },
  {
   "cell_type": "code",
   "execution_count": 2,
   "metadata": {},
   "outputs": [
    {
     "name": "stdout",
     "output_type": "stream",
     "text": [
      "b et a sont égaux\n"
     ]
    }
   ],
   "source": [
    "a = 33\n",
    "b = 200\n",
    "\n",
    "if b > a:\n",
    "    print(\"b est plus grand que a\")\n",
    "elif b == a:\n",
    "    print(\"b et a sont égaux\")\n",
    "else:\n",
    "    print(\"a est plus grand que b\")"
   ]
  },
  {
   "cell_type": "markdown",
   "metadata": {},
   "source": [
    "La structure if...else ce n'est pas uniquement comparer si un nombre est plus grand qu'un autre, il est également possible de comparer sur d'autres critères.\n",
    "\n",
    "\n",
    "Comme dit précédemment le Python, par son côté haut niveau, s'approche beaucoup de la langue anglaise au niveau de sa syntaxe. Ainsi, en Python, les opérateurs logiques `ET` et `OU`, qui prennent souvent la forme de `&&` ou `||` en programmation, sont écrits `and` et `or`. On peut donc écrire la chose suivante :"
   ]
  },
  {
   "cell_type": "code",
   "execution_count": 7,
   "metadata": {},
   "outputs": [
    {
     "name": "stdout",
     "output_type": "stream",
     "text": [
      "b et a sont strictement positifs\n"
     ]
    }
   ],
   "source": [
    "# On déclare deux entiers.\n",
    "# Pour rappel, pas de \"var\", \"int\" ou autre pour déclarer une variable en Python\n",
    "a = 33 \n",
    "b = 200\n",
    "\n",
    "# Notre structure if/else n'a pas d'accolades ({}), elle est structurée grâce aux espaces / tabulations\n",
    "if b > 0 and a > 0:\n",
    "    print(\"b et a sont strictement positifs\")\n",
    "else:\n",
    "    print(\"b et a ne sont pas strictement positifs\")\n",
    "# Remplacez \"and\" par \"or\" pour tester le \"ou\" logique"
   ]
  },
  {
   "cell_type": "markdown",
   "metadata": {},
   "source": [
    "Pour les boucles, il n'y a qu'une seule instruction possible : `for in:`, elle permet de parcourir des tableaux ou encore des chaînes de caractères (quelque soit le langage de programmation, une chaîne de caractères est en fait un tableau)."
   ]
  },
  {
   "cell_type": "code",
   "execution_count": 6,
   "metadata": {},
   "outputs": [
    {
     "name": "stdout",
     "output_type": "stream",
     "text": [
      "pêche\n",
      "banane\n",
      "ananas\n",
      "0 - pêche\n",
      "1 - banane\n",
      "2 - ananas\n"
     ]
    }
   ],
   "source": [
    "liste_fruits = [\"pêche\", \"banane\", \"ananas\"]\n",
    "# ici on liste et \"print()\" tous les éléments de la liste \"liste_fruits\"\n",
    "for fruit in liste_fruits:\n",
    "    print(fruit)\n",
    "\n",
    "# Si on souhaite récupérer également l'index des éléments, on peut utiliser la fonction enumerate() sur la liste\n",
    "for index, fruit in enumerate(liste_fruits):\n",
    "    print(f\"{index} - {fruit}\")"
   ]
  },
  {
   "cell_type": "markdown",
   "metadata": {},
   "source": [
    "Pour fonctionner de façon plus conventionnelle, comme un `for(var i = 0; i < limite; i++){}`, on utilise toujours la fonction `for in:` mais accompagnée de la fonction `range()`. Dans son utilisation la plus basique la fonction va prendre un seul et unique paramètre et retourner un `range` (type de variable) content une liste d'entiers compris entre 0 et le chiffre mis en paramètre."
   ]
  },
  {
   "cell_type": "code",
   "execution_count": 4,
   "metadata": {},
   "outputs": [],
   "source": [
    "# Va lister toutes les valeurs entre 0 et 6, 0 inclus\n",
    "for chiffre in range(6):\n",
    "    print(chiffre)"
   ]
  },
  {
   "cell_type": "markdown",
   "metadata": {},
   "source": []
  },
  {
   "cell_type": "markdown",
   "metadata": {},
   "source": [
    "Si on place un deuxième paramètre à la fonction `range()`, il est possible de définir nous-même les bornes, de ce fait, en écrivant `range(1, 11)`, on demande à lister tous les **entiers** compris entre 1 et 11, le deuxième paramètre étant toujours exclu.\n",
    "Il est possible de passer un troisième et dernier paramètre qui va définir le pas d'avancement, on peut donc définir un `range()` où on avance de 5 en 5 ou encore de 20 en 20, par défaut le pas de la fonction `range()` est de 1. Enfin, en mettant une valeur négative pour le pas et inversant les bornes, il est possible de compter à l'envers, ainsi en écrivant `range(7, 0, -2)`, nous listerons tous les chiffres de 7 à 1 avec un pas d'avancement de deux.\n",
    "\n",
    "Notez que le résultat de la fonction `range()` n'est pas affichable dans la fonction `print()`.\n",
    "\n",
    "# A vous de coder\n",
    "\n",
    "Déclarez des boucles répondant aux critères suivants (une ligne une boucle) :\n",
    "- Une boucle qui affiche (print) tous les éléments d'une liste (que vous aurez définie)\n",
    "- Une boucle qui affiche (print) tous les entiers de 0 à 99 (inclus)\n",
    "- Une boucle qui affiche (print) tous les entiers de 0 à 1 000 avec un pas de 100\n",
    "- Une boucle qui affiche (print) tous les entiers de 800 à -500 avec un pas de 2\n",
    "\n",
    "Note : La fonction `print()` doit se trouver dans la boucle pour ainsi afficher toutes les valeurs.\n",
    "\n",
    "**Pensez bien à rajouter une cellule de type \"code\" en appuyant sur le bouton \"+\" en haut à gauche**"
   ]
  },
  {
   "cell_type": "markdown",
   "metadata": {},
   "source": [
    "On peut mettre en application ce que nous avons vu précédemment (boucles et liste) en ajoutant au fur et à mesure des données dans une liste grâce à la méthode `append()`. Ce qui nous donne le code suivant.\n",
    "\n",
    "```python\n",
    "liste = [45, 10, 80]\n",
    "for i in range(0, 100, 10):\n",
    "    liste.append(i)\n",
    "# Notre tableau a 10 nouvelles entrées\n",
    "print(liste) \n",
    "```"
   ]
  },
  {
   "cell_type": "markdown",
   "metadata": {},
   "source": [
    "# Tableau de dictionnaires\n",
    "\n",
    "Nous avons vu précédemment les dictionnaires et les tableaux, le mélange des deux (tableau de dictionnaire) est une structure très utile pour stocker plusieurs dictionnaires qui sont identiques, par \"identiques\" on entend que tous les dictionnaires ont les mêmes clés. Le tableau de dictionnaires n'est pas sans rappeler un tableur où les dictionnaires seraient des lignes et les clés des colonnes. \n",
    "\n",
    "Nous allons beaucoup utiliser cette structure, il est donc très important de la comprendre. Nous allons partir avec le tableau de dictionnaires suivant :\n",
    "\n",
    "```python\n",
    "liste_voitures = [\n",
    "    {\n",
    "        \"marque\": \"Porsche\",\n",
    "        \"modele\": \"Panamera\",\n",
    "        \"prix\": 50000,\n",
    "        \"annee\": 2015\n",
    "    },\n",
    "    {\n",
    "        \"marque\": \"Tesla\",\n",
    "        \"modele\": \"S\",\n",
    "        \"prix\": 100000,\n",
    "        \"annee\": 2018\n",
    "    },\n",
    "    {\n",
    "        \"marque\": \"Toyota\",\n",
    "        \"modele\": \"Rav4\",\n",
    "        \"prix\": 35000,\n",
    "        \"annee\": 2014\n",
    "    },\n",
    "    {\n",
    "        \"marque\": \"Ford\",\n",
    "        \"modele\": \"F-150\",\n",
    "        \"prix\": 30500,\n",
    "        \"annee\": 2011\n",
    "    },\n",
    "    {\n",
    "        \"marque\": \"Kia\",\n",
    "        \"modele\": \"Niro\",\n",
    "        \"prix\": 42160,\n",
    "        \"annee\": 2019\n",
    "    }\n",
    "]\n",
    "```\n",
    "\n",
    "# A vous de coder\n",
    "\n",
    "Déclarez des boucles et variables répondant aux critères suivants (une ligne une boucle) :\n",
    "- Une boucle qui affiche (print) uniquement les clés \"prix\" et \"modele\" d'un véhicule\n",
    "- Une variable qui affiche (print) le dernier dictionnaire\n",
    "- Une variable qui affiche (print) le modèle du troisième dictionnaire\n",
    "\n",
    "**Pensez bien à rajouter une cellule de type \"code\" en appuyant sur le bouton \"+\" en haut à gauche**\n",
    "**Récupérez la variable liste_voitures au-dessus pour la coller dans la cellule type code**"
   ]
  },
  {
   "cell_type": "code",
   "execution_count": null,
   "metadata": {},
   "outputs": [],
   "source": [
    "# Codez ici"
   ]
  },
  {
   "cell_type": "markdown",
   "metadata": {},
   "source": [
    "# Fonctions\n",
    "\n",
    "Comme tout langage de programmation, il est également possible en Python d'écrire des fonctions, le mot-clé est `def`. Etant donné qu'en Python, il n'y a pas d'accolades ({}) ou de point-virgules ( ; ) pour définir les instructions dans le code, **il faut mettre le contenu de la fonction en retrait par rapport au mot-clé \"def\", ceci est fait grâce à la touche tabulation** (la touche à gauche de la touche \"A\" de votre clavier). Exemple :\n",
    "\n",
    "```python\n",
    "# Après le mot-clé \"def\", il faut définir le nom de la fonction (obligatoire) et faire suivre de \":\"\n",
    "def my_function(): \n",
    "  print(\"Je suis une fonction\") # Devant cette ligne, il y a une tabulation\n",
    "```\n",
    "La fonction peut ensuite être appelée de la façon suivante `ma_fonction()`.\n",
    "\n",
    "Bien évidemment, une fonction peut prendre des paramètres, il est donc possible d'écrire la chose suivante :\n",
    "\n",
    "```python\n",
    "def my_function_with_parameters(a, b):\n",
    "  print(\"Je suis une fonction qui prend deux paramètres\")\n",
    "```\n",
    "Ci-dessus on définit une fonction appelée \"my_function_with_parameters\" acceptant deux paramètres appelés a et b respectivement.\n",
    "\n",
    "Enfin notez qu'une fonction définit une scope, une portée, une variable définie dans une fonction n'est pas accessible à l'extérieur, il est en de même pour la boucle `for` et la structure `if, elif, else`. Par ailleurs, en Python, si vous appelez une fonction avec des paramètres manquants, une erreur sera levée par le compilateur. Vous ne pouvez donc pas faire la chose suivante :\n",
    "\n",
    "```python\n",
    "def bye(prenom):\n",
    "  return f\"Au revoir {prenom}\"\n",
    "\n",
    "# La ligne suivante va lever une erreur \n",
    "# car il n'y a pas de paramètres alors que la signature de la fonction \"au_revoir\" en possède\n",
    "# Les paramètres sont considérés comme étant obligatoires en Python\n",
    "au_revoir()\n",
    "```\n",
    "\n",
    "Comme les autres langages de programmation, on utilise le mot-clé `return` pour retourner le résultat d'une fonction. Pour rappel, retourner le résultat d'une fonction est préférable à la modification de variables globales, et ce, pour éviter les effets de bord.\n",
    "\n",
    "Dernier point : créer une fonction vide va forcément lever une erreur. Ainsi écrire la chose suivante n'est pas correct :\n",
    "```python\n",
    "# NE PAS ECRIRE LA CHOSE SUIVANTE\n",
    "def error():\n",
    "```\n"
   ]
  },
  {
   "cell_type": "markdown",
   "metadata": {},
   "source": [
    "# A vous de coder\n",
    "\n",
    "Ecrire du code correspondant aux critères suivants : \n",
    "- Une fonction qui prend en paramètre un entier et le multiplie par lui-même\n",
    "- Une fonction qui prend en paramètres deux chaînes de caractères et souhaite bonjour à cette personne\n",
    "- Une fonction qui prend en paramètres une chaîne de caractères et la retourne à l'envers\n",
    "- Une fonction qui prend en paramètres deux entiers, les divise et retourne en résultat l'entier le plus proche.\n",
    "  - Par exemple, si la fonction divise 5 par 3, la fonction doit retourner 2\n",
    "- Une fonction qui prend en paramètres deux entiers, les multiplie et retourne **toujours** un **produit strictement positif** \n",
    "- Une fonction qui prend en paramètres deux entiers, les divise et retourne le reste\n",
    "- Une fonction qui prend en paramètres deux entiers qui les multiplie **sans utiliser** l'opérateur de multiplication\n",
    "\n",
    "Note : la fonction `print()` **ne doit pas être dans la fonction que vous écrivez,** votre fonction (et ses paramètres) doit être dans la fonction `print()`. Par exemple :\n",
    "```python\n",
    "print(my_fonction(param1, param2))\n",
    "```\n",
    "Vos fonctions doivent impérativement **retourner le résultat de l'opération**. Ainsi, **vous ne devez pas écrire la chose suivante** :\n",
    "```python\n",
    "def my_fonction(argument):\n",
    "    print(argument())\n",
    "```\n",
    "\n",
    "Il faudra également penser à compiler en faisant la combinaison de touches `maj` + `entrée` ou cliquer sur le bouton \"exécuter\" placé plus haut."
   ]
  },
  {
   "cell_type": "code",
   "execution_count": 10,
   "metadata": {},
   "outputs": [
    {
     "data": {
      "text/plain": [
       "3"
      ]
     },
     "execution_count": 10,
     "metadata": {},
     "output_type": "execute_result"
    }
   ],
   "source": [
    "# Codez ici "
   ]
  },
  {
   "cell_type": "markdown",
   "metadata": {},
   "source": [
    "Il est également possible de définir une valeur par défaut pour un paramètre d'une fonction. On procède comme ceci\n",
    "```python\n",
    "def params_default(a = 5, b = 4):\n",
    "  print(\"Je suis une fonction qui prend deux paramètres\", a, b)\n",
    "# Lorsque la fonction params_default est appelée sans paramètres, les paramètres a et b prendront comme valeur 5 et 4 respectivement.\n",
    "```\n",
    "**Notez qu'en Python, lorsqu'on appelle une fonction sans paramètres alors que sa signature en contient, une erreur sera levée.**"
   ]
  },
  {
   "cell_type": "markdown",
   "metadata": {},
   "source": [
    "Ceci met fin à ce TP concernant l'apprentissage Python."
   ]
  }
 ],
 "metadata": {
  "interpreter": {
   "hash": "c469c999aae2bf6d578d6881606ced546d1546d312a4811937df5b24665ee8bc"
  },
  "kernelspec": {
   "display_name": "Python 3.8.5 64-bit (conda)",
   "name": "python3"
  },
  "language_info": {
   "codemirror_mode": {
    "name": "ipython",
    "version": 3
   },
   "file_extension": ".py",
   "mimetype": "text/x-python",
   "name": "python",
   "nbconvert_exporter": "python",
   "pygments_lexer": "ipython3",
   "version": "3.8.8"
  }
 },
 "nbformat": 4,
 "nbformat_minor": 4
}
