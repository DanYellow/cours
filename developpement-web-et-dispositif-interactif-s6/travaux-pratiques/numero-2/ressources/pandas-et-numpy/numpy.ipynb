{
 "cells": [
  {
   "cell_type": "markdown",
   "metadata": {},
   "source": [
    "# numpy\n",
    "\n",
    "![e](https://numpy.org/doc/stable/_static/numpylogo.svg)\n",
    "\n",
    "Le but de ce tp est de voir dans les grandes lignes la bibliothèque numpy. Open-source et gratuite, elle permet de gérer de façon beaucoup plus optimisée les tableaux en Python. Ainsi, **numpy est l'outil parfait pour gérer un gros volume de données, comme en Big Data.**\n",
    "Si nous faisions du Python de façon traditionnelle, nous aurions besoin d'installer numpy grâce à pip et la commande `pip install numpy`, vu que nous utilisons Anaconda (ou Google Colab), nous n'avons pas besoin d'entrer cette commande. Il nous faut juste l'importer grâce à la ligne de code suivante `import numpy as np`.\n",
    "\n",
    "[Voir documentation de numpy](https://numpy.org/)"
   ]
  },
  {
   "cell_type": "code",
   "execution_count": 1,
   "metadata": {},
   "outputs": [],
   "source": [
    "import numpy as np\n",
    "\n",
    "# On définit un tableau en Python\n",
    "tab_python = [1, 65, 85, 112, 345] \n",
    "\n",
    "# puis on le transform en tableau numpy\n",
    "tab_numpy = np.array(tab_python)\n",
    "\n",
    "# Et voilà, nous avons fait notre premier tableau numpy\n",
    "# Bien évidemment nous pouvons également écrire\n",
    "\n",
    "tab_numpy = np.array([1, 65, 85, 112, 345])"
   ]
  },
  {
   "cell_type": "markdown",
   "metadata": {},
   "source": [
    "Certaines fonctionnalités vues en Python peuvent ont leur équivalent avec numpy. Par exemple la fonction `range()` devient `np.arange(valeur de départ, valeur de fin, pas = 1, type de donnée = None)` avec numpy. Comme les tableaux Python, il est possible d'itérer dans un tableau Python avec la boucle `for in:`. La fonction `np.arange` permet également d'avoir en paramètres des chiffres décimaux contrairement à la fonction `range()`.\n",
    "\n",
    "- [Voir documentation de la méthode arange](https://numpy.org/doc/stable/reference/generated/numpy.arange.html)\n",
    "\n",
    "# A vous de coder\n",
    "\n",
    "Ecrire un **tableau numpy** composé d'au moins trois nombres (entiers ou non) puis stocker dans une variable (une ligne une variable) :\n",
    "- La somme des valeurs du tableau\n",
    "- La moyenne des valeurs du tableau\n",
    "- La valeur médiane des valeurs du tableau\n",
    "\n",
    "Chaque de ces résultats devra être affiché via la fonction `print()` ou `display()`\n",
    "\n",
    "Note : Pour la médiane, il est préférable de ranger les valeurs dans l'ordre croissant avec la méthode `np.sort(arr)`\n",
    "Note 2 : Pensez à utiliser une boucle pour réaliser ces opérations"
   ]
  },
  {
   "cell_type": "code",
   "execution_count": null,
   "metadata": {},
   "outputs": [],
   "source": [
    "# Codez ici\n",
    "import numpy as np"
   ]
  },
  {
   "cell_type": "markdown",
   "metadata": {},
   "source": [
    "Il est également possible d'effectuer des opérations sur les tableaux.\n",
    "- Addition\n",
    "```python\n",
    "tab_1 = np.array([0, 1, 2])\n",
    "tab_2 = np.array([3, 1, 0])\n",
    "print(tab_1 + tab_2)\n",
    "```\n",
    "Avec numpy le signe \"+\" permet d'additionner les composantes des tableaux, alors pour fusionner des tableaux, il faut utiliser la fonction `np.concatenate((arr1, arr2, arr3...))`. Il existe d'autres méthodes pour fusionner des tableaux, notamment pour gérer le côté multi-dimensionnels des tableaux. \n",
    "\n",
    "- Soustraction\n",
    "```python\n",
    "tab_1 = np.array([0, 1, 2])\n",
    "tab_2 = np.array([2, 1, 0])\n",
    "print(tab_1 - tab_2)\n",
    "```\n",
    "- Multiplication\n",
    "```python\n",
    "tab_1 = np.array([0, 1, 2])\n",
    "tab_2 = np.array([2, 1, 0])\n",
    "print(tab_1 * tab_2)\n",
    "```\n",
    "\n",
    "- Division\n",
    "```python\n",
    "tab_1 = np.array([0, 1, 2])\n",
    "tab_2 = np.array([2, 1, 0])\n",
    "print(tab_1 / tab_2)\n",
    "# Attention à la division par zéro\n",
    "```"
   ]
  },
  {
   "cell_type": "markdown",
   "metadata": {},
   "source": [
    "# Mais pourquoi numpy est si rapide ?\n",
    "numpy peut gérer facilement des tableaux de 50k lignes sans problème et effectuer des opérations dessus de façon très rapide. Ceci est possible grâce au procédé de vectorisation. Pour faire simple au lieu de faire une boucle où est appliqué une opération à la fois, la vectorisation fait plusieurs opérations lors du même tour de boucle, et ce, en parallèle. Ainsi le code suivant :\n",
    "```python\n",
    "    tableau = np.random.randint(0, 750, 10000, dtype='int64') # On génère un tableau de 10 000 entrées avec des valeurs comprises entre 0 et 750(exclu) aléatoires sur une dimension \n",
    "    somme = 0\n",
    "    for valeur in tableau:\n",
    "        somme += valeur\n",
    "```\n",
    "Devient \n",
    "```python\n",
    "    tableau = np.random.randint(0, 750, 10000, dtype='int64')\n",
    "    somme = 0\n",
    "    for index in range(0, len(tableau), 4):\n",
    "        somme += tableau[index + 0] # On part du principe que chaque ligne est exécutée en parallèle\n",
    "        somme += tableau[index + 1]\n",
    "        somme += tableau[index + 2]\n",
    "        somme += tableau[index + 3]\n",
    "    # Ici, on a pris un cas parfait (la taille du tableau est divisible 4), généralement une boucle supplémentaire est ajoutée pour gérer les éléments manquants\n",
    "```"
   ]
  },
  {
   "cell_type": "markdown",
   "metadata": {},
   "source": [
    "# Filtres \n",
    "\n",
    "numpy propose une syntaxe très simple permettant de filtrer les données d'un tableau. \n",
    "Exemple : Filtrer toutes les données supérieures ou égales à 25. "
   ]
  },
  {
   "cell_type": "code",
   "execution_count": 45,
   "metadata": {},
   "outputs": [
    {
     "data": {
      "text/plain": [
       "array([26, 27, 28, 29, 30, 31, 32, 33, 34, 35, 36, 37, 38, 39])"
      ]
     },
     "execution_count": 45,
     "metadata": {},
     "output_type": "execute_result"
    }
   ],
   "source": [
    "tab_filtre = np.arange(10, 50)\n",
    "tab_filtre[tab_filtre > 25]"
   ]
  },
  {
   "cell_type": "markdown",
   "metadata": {},
   "source": [
    "Notez que le filtrage de données **crée un nouveau tableau.** Dans l'exemple précédent, tab_filtre contient toujours des nombres de 10 à 49 inclus.\n",
    "\n",
    "Il est également bon de noter qu'il est possible d'appliquer des opérations logiques en guise de filtres. Exemple :\n",
    "```python \n",
    "tab_filtre = np.arange(10, 50)\n",
    "# On filtre \"tab_filtre\", on souhaite récupérer toutes les valeurs supérieures à 25 et inférieures à 40\n",
    "tab_filtre[(tab_filtre > 25) & (tab_filtre < 40)]\n",
    "```\n",
    "Faites bien attention aux parenthèses, sans elles, ça ne fonctionnera pas. Le système de filtratage nous sera très utile pour nettoyer/sélectionner les données lorsque nous ferons de l'apprentissage automatique (Machine Learning) ou des graphiques. Remarquez que nous avons utilisé qu'une seule esperluette (&) pour effectuer notre \"et\". Pour le ou, donc, il ne faudra utiliser qu'un seul pipe (|).\n",
    "\n",
    "On peut également effectuer des filtres via des masques. Un masque est juste un tableau qui ne va contenir que des booléens, l'idée étant de garder que les indexes avec la valeur True. Ce qui donne le code suivant : \n",
    "\n",
    "```python\n",
    "tableau = np.array([45, 20, 10, 60, 50])\n",
    "mask = [True, True, False, False, False]\n",
    "\n",
    "nouv_tab = tableau[mask]\n",
    "print(nouv_tab)\n",
    "```\n",
    "\n",
    "Ce masque, c'est ce que vous faites lors que vous passez `(tab_filtre > 25) & (tab_filtre < 40)` en index d'un tableau numpy, si vous écrivez un `print((tab_filtre > 25) & (tab_filtre < 40))`, Python affichera un tableau constitué de `True` et `False`.\n",
    "\n",
    "Pour clore ce chapître sur les filtres, il est possible de passer une fonction paramètre cette dernière devant **toujours** retourner `True` ou `False` dépendamment des conditions que vous avez défini."
   ]
  },
  {
   "cell_type": "markdown",
   "metadata": {},
   "source": [
    "# Tableaux multi-dimensions \n",
    "\n",
    "Très spécialisé dans la gestion tableau, numpy permet également de gérer des tableaux multidimensionnels appelés aussi matrices, le code suivant définit un tableau avec deux dimensions (3 colonnes et 4 lignes).\n",
    "\n",
    "```python\n",
    "matrice_2_dims = np.array([[0, 1, 2], [3, 4, 5],[6, 7, 8]])\n",
    "```\n",
    "\n",
    "![matrice-tableaux](https://raw.githubusercontent.com/DanYellow/cours/main/big-data-s4/travaux-pratiques/numero-5/ressources/_images/matrice-tableaux.jpg)\n",
    "\n",
    "\n",
    "Il est possible de voir le schéma d'un tableau numpy grâce à la propriété `shape`."
   ]
  },
  {
   "cell_type": "code",
   "execution_count": 7,
   "metadata": {},
   "outputs": [
    {
     "name": "stdout",
     "output_type": "stream",
     "text": [
      "(4, 3)\n",
      "12\n",
      "2\n"
     ]
    }
   ],
   "source": [
    "# On définit ici un tableau de deux dimensions\n",
    "tab_2_dims = np.array([[0, 1, 2], [3, 4, 5], [6, 7, 8], [9, 10, 11]])\n",
    "\n",
    "print(tab_2_dims.shape) # Affiche le nombre de lignes, nbre de colonnes | (4, 3)\n",
    "print(tab_2_dims.size) # Affiche le nombre d'éléments | 12\n",
    "print(tab_2_dims.ndim) # Affiche le nbre de dimensions | 2"
   ]
  },
  {
   "cell_type": "markdown",
   "metadata": {},
   "source": [
    "Grâce à la méthode `reshape` des tableaux numpy, il est possible de transformer un tableau d'une dimension dans une autre dimension. Par exemple."
   ]
  },
  {
   "cell_type": "code",
   "execution_count": 27,
   "metadata": {},
   "outputs": [
    {
     "data": {
      "text/plain": [
       "array([[ 1,  2,  3,  4],\n",
       "       [ 5,  6,  7,  8],\n",
       "       [ 9, 10, 11, 12]])"
      ]
     },
     "execution_count": 27,
     "metadata": {},
     "output_type": "execute_result"
    }
   ],
   "source": [
    "tab = np.array([1, 2, 3, 4, 5, 6, 7, 8, 9, 10, 11, 12])\n",
    "\n",
    "nouveau_tab = tab.reshape(3, 4) # nbre lignes, nbre de colonnes\n",
    "nouveau_tab"
   ]
  },
  {
   "cell_type": "markdown",
   "metadata": {},
   "source": [
    "Notez que le nombre d'entrées d'un tableau multidirectionnel doit être le produit du nombre de colonnes et de lignes. Dans le cas précédent, il nous est impossible d'écrire la chose suivante :\n",
    "```python\n",
    "tab = np.array([1, 2, 3, 4, 5, 6, 7, 8, 9, 10, 11, 12])\n",
    "# 3 x 3 = 9, et 9 n'est la longueur de notre tableau. Dans une cellule \"code\" ceci lèvera une erreur\n",
    "nouveau_tab = tab.reshape(3, 3)\n",
    "```"
   ]
  },
  {
   "cell_type": "code",
   "execution_count": 15,
   "metadata": {},
   "outputs": [
    {
     "data": {
      "text/html": [
       "<style> table { width:100%; } </style>"
      ],
      "text/plain": [
       "<IPython.core.display.HTML object>"
      ]
     },
     "metadata": {},
     "output_type": "display_data"
    }
   ],
   "source": [
    "matrice_trois_dims = np.array([[0, 1, 2], [3, 4, 5], [6, 7, 8], [9, 10, 11]])"
   ]
  },
  {
   "cell_type": "markdown",
   "metadata": {},
   "source": [
    "On a vu plus haut qu'il était possible d'itérer dans un tableau numpy avec une boucle `for in:`, toutefois cette méthode peut se montrer très fastidieuse lorsque notre tableau possède plusieurs dimensions. \n",
    "Par exemple avec un tableau à 2 dimensions.\n",
    "```python\n",
    "tableau_2_dims = np.array([1, 2, 3, 4, 5, 6, 7, 8, 9, 10, 11, 12]).reshape(3, 3)\n",
    "for i in tableau_2_dims:\n",
    "    for j in i:\n",
    "        print(j)\n",
    "```\n",
    "\n",
    "Par exemple avec un tableau à 3 dimensions.\n",
    "```python\n",
    "tableau_3_dims = np.array([1, 2, 3, 4, 5, 6, 7, 8, 9, 10, 11, 12]).reshape(2, 3, 2)\n",
    "for i in tableau_3_dims:\n",
    "    for j in i:\n",
    "        for k in j:\n",
    "             print(k)\n",
    "```\n",
    "\n",
    "Vous comprennez que ceci va être de plus en plus verbeux au fur et à mesure que le tableau va gagner en dimensions. Heureusement, il existe la méthode `nditer()` qui permet d'applatir les tableaux numpy pour itérer plus facilement. Exemple :\n",
    "```python\n",
    "tableau_3_dims = np.array([1, 2, 3, 4, 5, 6, 7, 8, 9, 10, 11, 12]).reshape(2, 3, 2)\n",
    "for i in np.nditer(tableau_3_dims):\n",
    "    print(i) # Listera 1, 2, 3, 4, 5, 6, 7, 8, 9, 10, 11, 12\n",
    "```"
   ]
  },
  {
   "cell_type": "markdown",
   "metadata": {},
   "source": [
    "Ceci met fin à ce petit tour d'horizon de la très utile bibliothèque numpy, sa fonctionnalité de filtre nous sera très utile pour manipuler nos données. Mais on n'utilisera pas directement numpy, mais un \"cousin\" : pandas car nous allons travailler exclusivement avec des données tabulaires, des données labellisées."
   ]
  }
 ],
 "metadata": {
  "interpreter": {
   "hash": "8ed06d07b9ff369db6ed7b53447be18709da67cd911d838d72fee7fecb26667a"
  },
  "kernelspec": {
   "display_name": "Python 3.10.0 64-bit",
   "name": "python3"
  },
  "language_info": {
   "name": "python",
   "version": ""
  }
 },
 "nbformat": 4,
 "nbformat_minor": 4
}
